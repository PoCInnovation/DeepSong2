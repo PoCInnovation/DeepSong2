{
 "cells": [
  {
   "cell_type": "code",
   "execution_count": null,
   "id": "71ccf473",
   "metadata": {},
   "outputs": [],
   "source": [
    "import numpy as np\n",
    "import utils"
   ]
  },
  {
   "cell_type": "markdown",
   "id": "fde6c780",
   "metadata": {},
   "source": [
    "# Neuron from scratch\n",
    "\n",
    "Welcome to the second part of this day. Now that you have learned how to use the gradient descent agorithm, you will use it in a concrete case and develop your first intelligent neuron.\n",
    "\n",
    "Below, you can select the difficulty of the dataset that will be generated so you can test your neuron in several conditions. I advise you to start with a low or normal difficulty."
   ]
  },
  {
   "cell_type": "code",
   "execution_count": null,
   "id": "808f9cd6",
   "metadata": {},
   "outputs": [],
   "source": [
    "NOISE = {'low': 0, 'normal': 2, 'hard': 8, 'extreme': 15}\n",
    "DIFFICULTY = 'normal'\n",
    "\n",
    "assert DIFFICULTY == 'low' or DIFFICULTY == 'normal' or DIFFICULTY == 'hard' or DIFFICULTY == 'extreme'"
   ]
  },
  {
   "cell_type": "markdown",
   "id": "edd424a2",
   "metadata": {},
   "source": [
    "---\n",
    "\n",
    "# PROJECT XFV-18\n",
    "\n",
    "In order to improve the safety of the next space missions of the XFV-18 launcher, you have been asked to create an AI capable of controlling a rocket and managing emergency situations.  \n",
    "\n",
    "Your first mission will be to predict the apogee of your orbit according to the power of the engines.\n",
    "\n",
    "Researchers have now managed to collect enough data to allow you to train your AI. So you can get to work!"
   ]
  },
  {
   "cell_type": "markdown",
   "id": "3ca194e1",
   "metadata": {},
   "source": [
    "It is now to recover the dataset which is cut in two parts:\n",
    " * $ x $ = the power of the rocket engines\n",
    " * $ y $ = the maximum altitude of the rocket"
   ]
  },
  {
   "cell_type": "code",
   "execution_count": null,
   "id": "045faeb8",
   "metadata": {
    "scrolled": true
   },
   "outputs": [],
   "source": [
    "x, y = utils.get_dataset(20, NOISE[DIFFICULTY])\n",
    "utils.display_dataset(x, y)"
   ]
  },
  {
   "cell_type": "markdown",
   "id": "932f98a5",
   "metadata": {},
   "source": [
    "> As you can see, the model seems to follow a linear function. A single neuron will be sufficient to correctly predict the maximum altitude of the rocket."
   ]
  },
  {
   "cell_type": "markdown",
   "id": "807fd1ce",
   "metadata": {},
   "source": [
    "In order to measure the performance of our network, we will have to use a cost function.  \n",
    "We will use the Mean Squared Error function whose formula is as follows:\n",
    "\n",
    "$$ MSE(\\hat{y}, y) = \\frac{1}{n} \\sum_{i=0}^{n} (y^{i} - \\hat{y}^{i})^2 $$"
   ]
  },
  {
   "cell_type": "code",
   "execution_count": null,
   "id": "e7126ac8",
   "metadata": {},
   "outputs": [],
   "source": [
    "def mean_squared_error(predict, target):\n",
    "    # TODO: implement MSE function\n",
    "    pass"
   ]
  },
  {
   "cell_type": "code",
   "execution_count": null,
   "id": "38d84e26",
   "metadata": {},
   "outputs": [],
   "source": [
    "class Neuron:\n",
    "    def __init__(self, x, lr = 0.00001):\n",
    "        self.lr = lr\n",
    "        self.w = np.random.rand(1)\n",
    "        self.b = np.random.rand(1)\n",
    "        self.grad_w = np.zeros(x.shape)\n",
    "        self.grad_b = np.zeros(1)\n",
    "\n",
    "    def forward(self, input):\n",
    "        # TODO: Implement forward pass\n",
    "        pass\n",
    "\n",
    "    def backward(self, x, y, target):\n",
    "        # TODO: Process weight & bias gradients\n",
    "        self.grad_w = ?\n",
    "        self.grad_b = ?\n",
    "        \n",
    "    def apply_gradients(self):\n",
    "        # TODO: Apply computed gradients\n",
    "        self.w -= ?\n",
    "        self.b -= ?\n",
    "        self.reset_gradients()\n",
    "\n",
    "    def reset_gradients(self):\n",
    "        self.grad_w = np.zeros(1)\n",
    "        self.grad_b = np.zeros(1)"
   ]
  },
  {
   "cell_type": "code",
   "execution_count": null,
   "id": "9e7a6f2b",
   "metadata": {},
   "outputs": [],
   "source": [
    "x, y = utils.get_dataset(50, NOISE[DIFFICULTY])\n",
    "x = np.expand_dims(x, 1)\n",
    "\n",
    "neuron : Neuron = Neuron(x)\n",
    "epochs = 100\n",
    "\n",
    "loss = 0\n",
    "loss_history = np.ones(epochs)\n",
    "\n",
    "for epoch in range(epochs):\n",
    "    for i in range(np.shape(x)[0]):\n",
    "        # TODO: make a prediction with actual model\n",
    "        prediction = ?\n",
    "\n",
    "        # TODO: compute loss with expected value\n",
    "        loss = ?\n",
    "\n",
    "        # TODO: train model\n",
    "        neuron.backward(?, ?, ?)\n",
    "        neuron.apply_gradients()\n",
    "\n",
    "    loss_history[epoch] = loss\n",
    "\n",
    "utils.display_loss_history(loss_history, epochs)\n",
    "utils.display_dataset(x, y, neuron)\n",
    "print('Lowest loss value achieved: %f' % np.min(loss_history))\n",
    "print('Final neuron: %.2f x + %.2f' % (neuron.w, neuron.b))"
   ]
  },
  {
   "cell_type": "code",
   "execution_count": null,
   "id": "99f89c28",
   "metadata": {},
   "outputs": [],
   "source": [
    "utils.start_board_computer(neuron)"
   ]
  }
 ],
 "metadata": {
  "kernelspec": {
   "display_name": "Python 3 (ipykernel)",
   "language": "python",
   "name": "python3"
  },
  "language_info": {
   "codemirror_mode": {
    "name": "ipython",
    "version": 3
   },
   "file_extension": ".py",
   "mimetype": "text/x-python",
   "name": "python",
   "nbconvert_exporter": "python",
   "pygments_lexer": "ipython3",
   "version": "3.10.8"
  }
 },
 "nbformat": 4,
 "nbformat_minor": 5
}
